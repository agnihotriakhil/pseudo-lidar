{
 "cells": [
  {
   "cell_type": "code",
   "execution_count": 1,
   "metadata": {},
   "outputs": [
    {
     "name": "stdout",
     "output_type": "stream",
     "text": [
      "pygame 1.9.6\n",
      "Hello from the pygame community. https://www.pygame.org/contribute.html\n"
     ]
    }
   ],
   "source": [
    "from pyntcloud import PyntCloud\n",
    "from pyntcloud.io import bin as io_bin\n",
    "import numpy as np\n",
    "import pandas as pd\n",
    "from pythreejs import *  \n",
    "import numpy as np\n",
    "from IPython.display import display\n",
    "from ipywidgets import HTML, Text, Output, VBox\n",
    "from traitlets import link, dlink\n",
    "import glob\n",
    "from check import ROI"
   ]
  },
  {
   "cell_type": "code",
   "execution_count": 6,
   "metadata": {},
   "outputs": [
    {
     "name": "stdout",
     "output_type": "stream",
     "text": [
      "[-28.84548213854492, -100.68116193737977, 25.0]\n",
      "[-158.0663200397419, -14.075318990896848, 25.0]\n",
      "[-29.75545013838793, -75.35218177396989, 25.0]\n",
      "[-27.18468318190382, -147.20274599295064, 25.0]\n",
      "[-157.5864972691074, -0.1694710734353886, 25.0]\n",
      "[-59.25724383958205, -79.42368372904384, 25.0]\n",
      "[-16.920711643667616, -1.1763867539796085, 25.0]\n",
      "[-15.589534145194847, -91.12906675538535, 25.0]\n",
      "[-130.68348541633935, 5.045987069669291, 25.0]\n",
      "[-123.0356258118031, 5.995485474742516, 25.0]\n",
      "[-81.09285617539317, -153.21624014991525, 25.0]\n",
      "[-47.51853237615625, -55.19235131277628, 25.0]\n",
      "[-58.21425158474368, -147.02574774875163, 25.0]\n",
      "[-154.43378385197832, 17.530649259851714, 25.0]\n",
      "[-128.37467746431463, -3.657999856654186, 25.0]\n",
      "[-15.806863219791424, 12.257806589682328, 25.0]\n",
      "[-126.9813687049137, -7.869570015434041, 25.0]\n",
      "[-2.679646585691515, -4.726257707950888, 25.0]\n",
      "[-154.81170626007017, -1.4005237453378867, 25.0]\n",
      "[-95.24170439656015, 6.709435361428911, 25.0]\n",
      "[7.511118849280152, -75.37990949430521, 25.0]\n",
      "[-109.64949133553799, -7.4243877066982815, 25.0]\n",
      "[-118.72007965375775, -153.18080042837002, 25.0]\n",
      "[-47.345236916137544, -67.43641267169083, 25.0]\n",
      "[12.125134344134793, -0.8672257710723841, 25.0]\n",
      "[3.012987395667416, -145.87330861219334, 25.0]\n",
      "[-109.73945190586912, -3.9252405466700138, 25.0]\n",
      "[-121.67012528015346, 8.78180324607403, 25.0]\n",
      "[19.367752286525644, -86.1739640684884, 25.0]\n",
      "[-154.567101012839, -13.998882826132212, 25.0]\n",
      "[7.594177536864983, -78.87494258219803, 25.0]\n",
      "[12.125105774663652, -4.3670313779566685, 25.0]\n",
      "[-15.721363402221229, 8.758866787582388, 25.0]\n",
      "[-53.216189180414325, -59.60394842901181, 25.0]\n",
      "[-24.701361265084785, -91.42617381150852, 25.0]\n",
      "[-59.33400590450301, -75.92506181654068, 25.0]\n",
      "[-10.885834173692793, -74.98650356763578, 25.0]\n",
      "[-6.405516746176545, -12.072893231947797, 25.0]\n",
      "[-69.5193113500182, -6.393629950103927, 25.0]\n",
      "[-79.82975859967831, 18.93177858445567, 25.0]\n",
      "[-11.300312224221031, -118.95562376572398, 25.0]\n",
      "[-39.64152729162575, 7.788765216440154, 25.0]\n",
      "[-52.32481580808312, -122.34097544105805, 25.0]\n",
      "[-39.898641405315516, -152.44028105187093, 25.0]\n",
      "[-84.86630905827369, -16.476566828411677, 25.0]\n",
      "[-52.63354688730641, -100.6459236047536, 25.0]\n",
      "[-158.65151953391342, 16.133457642879137, 25.0]\n",
      "[-93.99445949902389, 9.495951842548054, 25.0]\n",
      "[1.8593093694573568, -0.8962239012013189, 25.0]\n"
     ]
    }
   ],
   "source": [
    "def createBBox(bounding_box,C1,C2,C3,C4,C5,C6,C7,C8,color=\"yellow\"):\n",
    "    bounding_box.append({\"color\":color, \"vertices\":[C1,C2,C3,C4,C1]})\n",
    "    bounding_box.append({\"color\":color, \"vertices\":[C1,C4,C8,C5,C1]})\n",
    "    bounding_box.append({\"color\":color, \"vertices\":[C1,C2,C6,C5,C1]})\n",
    "    bounding_box.append({\"color\":color, \"vertices\":[C2,C6,C7,C3,C2]})\n",
    "    bounding_box.append({\"color\":color, \"vertices\":[C3,C7,C8,C4,C3]})\n",
    "    return bounding_box\n",
    "\n",
    "with open('lidar_config.txt') as f:\n",
    "    lidar_config = json.load(f)\n",
    "    index = len(lidar_config['lidar'])\n",
    "    \n",
    "home = [0,0,2.8]\n",
    "CLOUD = pd.DataFrame(columns=['x','y','z'])\n",
    "individual_points = []\n",
    "\n",
    "lidar_num = index;\n",
    "for i in range(lidar_num):\n",
    "    pointfiles = glob.glob(\"convert_image/{}/Pointclouds/*\".format(i))     # pointcloud files\n",
    "    coord = lidar_config['lidar'][i]['location']\n",
    "\n",
    "    num = 1\n",
    "    labelfiles = glob.glob(\"convert_image/{}/Labels/*\".format(i))\n",
    "    curr_boxes = np.load(labelfiles[num])                   # bounding box vertex location files\n",
    "    if(i==0):\n",
    "        boxes_inside = []\n",
    "        for box in curr_boxes:\n",
    "            if(box[0,0] < ROI/2 and box[0,1] < ROI/2):\n",
    "                print([box[0,0],box[0,1],ROI/2])\n",
    "                boxes_inside.append(box)\n",
    "        curr_boxes = boxes_inside\n",
    "\n",
    "        boxes_gt = list()\n",
    "        for each in curr_boxes:\n",
    "            each = each.tolist()\n",
    "            boxes_gt = createBBox(boxes_gt,each[0],each[1],each[2],each[3],each[4],each[5],each[6],each[7])\n",
    "\n",
    "    points_numpy = np.loadtxt(pointfiles[num])         # specify pointcloud file\n",
    "    new = np.random.random((len(points_numpy),3))\n",
    "    points_numpy = np.hstack((points_numpy,new))\n",
    "    points = pd.DataFrame(data=points_numpy,columns=['x', 'y', 'z','red','green','blue'])\n",
    "    points.iloc[:,0:3] = points.iloc[:,0:3] - (np.asarray(coord) - np.asarray(home))\n",
    "    individual_points.append(len(points))\n",
    "    CLOUD = CLOUD.append(points)\n",
    "\n",
    "cloud = PyntCloud(CLOUD)\n",
    "colors = [np.array([0,0,255], dtype=np.uint8),np.array([0,255,0],dtype=np.uint8)]\n",
    "for i in range(1,lidar_num+1):\n",
    "    for j in range(individual_points[i-1]):\n",
    "        if(i==1):\n",
    "            cloud.points.loc[j,0:3] = colors[i-1]\n",
    "        else:\n",
    "            cloud.points.iloc[individual_points[i-2]+j-2,0:3] = colors[i-1]"
   ]
  },
  {
   "cell_type": "code",
   "execution_count": 5,
   "metadata": {},
   "outputs": [
    {
     "data": {
      "application/vnd.jupyter.widget-view+json": {
       "model_id": "6452539e720047e09d08f27c8ae3cf0f",
       "version_major": 2,
       "version_minor": 0
      },
      "text/plain": [
       "Renderer(camera=PerspectiveCamera(aspect=1.6, fov=90.0, position=(-1.5777414111396109, 25.13055287961429, 11.8…"
      ]
     },
     "metadata": {},
     "output_type": "display_data"
    },
    {
     "data": {
      "application/vnd.jupyter.widget-view+json": {
       "model_id": "3f0b15b8d7224cefbce552b07b78ebb1",
       "version_major": 2,
       "version_minor": 0
      },
      "text/plain": [
       "HBox(children=(Label(value='Point size:'), FloatSlider(value=0.02, max=0.2, step=0.0002), Label(value='Backgro…"
      ]
     },
     "metadata": {},
     "output_type": "display_data"
    }
   ],
   "source": [
    "cloud.plot(initial_point_size=0.02, polylines=boxes_gt)\n",
    "# lidar_point_cloud = PyntCloud.from_file(\"convert_image/lidar/{}.ply\".format(num))\n",
    "# lidar_point_cloud.points = -5*lidar_point_cloud.points\n",
    "# lidar_point_cloud.plot(initial_point_size=0.02)"
   ]
  },
  {
   "cell_type": "code",
   "execution_count": 42,
   "metadata": {},
   "outputs": [],
   "source": [
    "import csv\n",
    "import json\n",
    "import pandas as pd\n",
    "\n",
    "data = {}\n",
    "data['lidar'] = []\n",
    "\n",
    "# data['lidar'].append({\n",
    "#     'location': [0,0,2.8,0,0,0],\n",
    "#     'angles': [-25,-1,-1.667,-15.639,-11.31,0,-0.667,-8.843,-7.254,0.333,-0.333,-6.148,-5.333,\n",
    "#             1.333,0.667,-4,-4.667,1.667,1,-3.667,-3.333,3.333,2.333,-2.667 ,-3,7,4.667,-2.333 ,-2,15,10.333,-1.333],\n",
    "#     'resolution': 0.2\n",
    "# })\n",
    "data['lidar'].append({\n",
    "    'location': [0,-1,2.8],\n",
    "    'angles': [-15,-13,-11,-9,-7,-5,-3,-1,1,3,5,7,9,11,13,15],\n",
    "    'resolution': 0.4\n",
    "})\n",
    "data['lidar'].append({\n",
    "    'location': [0,1,2.8],\n",
    "    'angles': [-25,-1,-1.667,-15.639,-11.31,0,-0.667,-8.843,-7.254,0.333,-0.333,-6.148,-5.333,\n",
    "            1.333,0.667,-4,-4.667,1.667,1,-3.667,-3.333,3.333,2.333,-2.667 ,-3,7,4.667,-2.333 ,-2,15,10.333,-1.333],\n",
    "    'resolution': 0.4\n",
    "})\n",
    "\n",
    "with open('lidar_config.txt', 'w') as outfile:\n",
    "    json.dump(data, outfile)"
   ]
  },
  {
   "cell_type": "code",
   "execution_count": 25,
   "metadata": {},
   "outputs": [
    {
     "data": {
      "text/plain": [
       "(151, 8, 3)"
      ]
     },
     "execution_count": 25,
     "metadata": {},
     "output_type": "execute_result"
    }
   ],
   "source": [
    "np.shape(curr_boxes)"
   ]
  },
  {
   "cell_type": "code",
   "execution_count": null,
   "metadata": {},
   "outputs": [],
   "source": []
  }
 ],
 "metadata": {
  "kernelspec": {
   "display_name": "Python 3",
   "language": "python",
   "name": "python3"
  },
  "language_info": {
   "codemirror_mode": {
    "name": "ipython",
    "version": 3
   },
   "file_extension": ".py",
   "mimetype": "text/x-python",
   "name": "python",
   "nbconvert_exporter": "python",
   "pygments_lexer": "ipython3",
   "version": "3.7.3"
  }
 },
 "nbformat": 4,
 "nbformat_minor": 2
}
