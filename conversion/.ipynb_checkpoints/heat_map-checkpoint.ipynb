{
 "cells": [
  {
   "cell_type": "code",
   "execution_count": 6,
   "metadata": {},
   "outputs": [],
   "source": [
    "import numpy as np\n",
    "import matplotlib.pyplot as plt\n",
    "import codecs\n",
    "import yaml\n",
    "import glob\n",
    "import json\n",
    "from scipy import stats\n",
    "from mayavi import mlab\n",
    "from check import ROI\n",
    "import os\n",
    "from mpl_toolkits.mplot3d import Axes3D\n",
    "from mpl_toolkits.mplot3d.art3d import Poly3DCollection, Line3DCollection\n",
    "import matplotlib.cm\n",
    "import matplotlib.colorbar\n",
    "import matplotlib.colors\n",
    "import seaborn\n",
    "\n",
    "resolution = .5\n",
    "cubes_per_axis = int((ROI)/resolution)\n",
    "frames = len(os.listdir('./b_2/0_datacollected_2019-28-02-22-02/'))\n",
    "\n",
    "f=open(r'/home/akhildb/lidar_optimisation/config.yml')\n",
    "config=yaml.load(f,Loader=yaml.FullLoader)\n",
    "cube_resolution = config['cube_resolution']\n",
    "total_cubes = (ROI*ROI)/np.prod(cube_resolution)\n",
    "\n",
    "\n",
    "bb_classes = codecs.open('./b_2/bb_classes_2.txt', 'r', encoding='utf-8').read()\n",
    "A = json.loads(bb_classes)\n",
    "\n",
    "bikes = []\n",
    "cars = []\n",
    "for x in A:\n",
    "    if(x[0]=='b'):\n",
    "        bikes.append(x[1])\n",
    "    else:\n",
    "        cars.append(x[1])"
   ]
  },
  {
   "cell_type": "code",
   "execution_count": 7,
   "metadata": {},
   "outputs": [],
   "source": [
    "x = np.linspace(-ROI/2,ROI/2,cubes_per_axis)\n",
    "y = np.linspace(-ROI/2,ROI/2,cubes_per_axis)\n",
    "z = np.linspace(-3.5,0.5,cubes_per_axis)\n",
    "\n",
    "C=[]\n",
    "B=[]\n",
    "for i in range(len(cars)):\n",
    "    for j in range(8):\n",
    "        C.append((cars[i][j]))\n",
    "        if(i<len(bikes)):\n",
    "            B.append((bikes[i][j]))"
   ]
  },
  {
   "cell_type": "code",
   "execution_count": 8,
   "metadata": {},
   "outputs": [],
   "source": [
    "q_x = np.digitize([a[0] for a in C],x)\n",
    "q_y = np.digitize([a[1] for a in C],y)\n",
    "q_z = np.digitize([a[2] for a in C],z)\n",
    "\n",
    "Mc = np.zeros((cubes_per_axis+1,cubes_per_axis+1,cubes_per_axis+1))\n",
    "for i in range(int(len(q_x)/8)):\n",
    "    x_coord = [q_x[8*i],q_x[8*i+1]]\n",
    "    y_coord = [q_y[8*i],q_y[8*i+2]]\n",
    "    z_coord = [q_z[8*i],q_y[8*i+5]]\n",
    "    lis = [(m,n,p) for m in x_coord for n in y_coord for p in z_coord]\n",
    "    min_x = min(lis)[0]\n",
    "    max_x = max(lis)[0]\n",
    "    min_y = min(lis, key = lambda t: t[1])[1]\n",
    "    max_y = max(lis, key = lambda t: t[1])[1]\n",
    "    min_z = min(lis, key = lambda t: t[2])[2]\n",
    "    max_z = max(lis, key = lambda t: t[2])[2]\n",
    "    inside = [(g,h,l) for g in range(min_x,max_x+1) for h in range(min_y,max_y+1) for l in range(min_z,max_z+1)]\n",
    "    for p in inside:\n",
    "        a = p[0]\n",
    "        b = p[1]\n",
    "        c = p[2]\n",
    "        Mc[a,b,c] = Mc[a,b,c] + 1\n",
    "        \n",
    "Mc[30:90,58:68,:] = 0\n",
    "Mc = Mc/frames\n",
    "# plt.figure(dpi=100)\n",
    "# axc = seaborn.heatmap(Mc,cmap=\"YlGnBu\",vmin=np.min(Mc),vmax=np.max(Mc),xticklabels=25, yticklabels=25)\n",
    "# plt.title('Cars : Heatmap of ROI')\n",
    "# plt.show()\n",
    "\n",
    "# x = np.linspace(-ROI/2,ROI/2,cubes_per_axis)\n",
    "# y = np.linspace(-ROI/2,ROI/2,cubes_per_axis)\n",
    "\n",
    "# q_x = np.digitize([a[0] for a in B],x)\n",
    "# q_y = np.digitize([a[1] for a in B],y)\n",
    "\n",
    "# Mb = np.zeros((cubes_per_axis+1,cubes_per_axis+1))\n",
    "# for i in range(int(len(q_x)/8)):\n",
    "#     x = [q_x[8*i],q_x[8*i+1]]\n",
    "#     y = [q_y[8*i],q_y[8*i+2]]\n",
    "#     lis = [(m,n) for m in x for n in y]\n",
    "#     min_x = min(lis)[0]\n",
    "#     max_x = max(lis)[0]\n",
    "#     min_y = min(lis, key = lambda t: t[1])[1]\n",
    "#     max_y = max(lis, key = lambda t: t[1])[1]\n",
    "#     inside = [(x,y) for x in range(min_x,max_x+1) for y in range(min_y,max_y+1)]\n",
    "#     for i in inside:\n",
    "#         a = i[0]\n",
    "#         b = i[1]\n",
    "#         Mb[a,b] = Mb[a,b] + 1\n",
    "\n",
    "# Mb[30:85,55:68] = 0\n",
    "# Mb = Mb/frames        \n",
    "# plt.figure(dpi=100)\n",
    "# axc = seaborn.heatmap(Mb,cmap=\"YlGnBu\",vmin=np.min(Mb),vmax=np.max(Mb),xticklabels=25, yticklabels=25)\n",
    "# plt.title('Bikes : Heatmap of ROI')\n",
    "# plt.show()\n",
    "\n",
    "# import pandas as pd\n",
    "# import re\n",
    "# from collections import Counter\n",
    "\n",
    "# chat = []\n",
    "# dates = []\n",
    "# with open('/home/akhildb/chat.txt', 'r') as file:\n",
    "#     for line in file:\n",
    "#         text = re.sub(\"[^0-9-]\", \"\", line.replace('/','-'))\n",
    "#         chat.append(text)\n",
    "#         if(len(text)>5):\n",
    "#             dates.append(text[:5])\n",
    "# date,num = zip(*Counter(dates).items())\n",
    "# avg = np.mean(list(num))\n",
    "# fig = plt.figure(dpi=500)\n",
    "# plt.plot(date,num,'r',linewidth=1.5)\n",
    "# plt.ylabel('Texts')\n",
    "# plt.xlabel('Date')\n",
    "# ax = plt.gca()\n",
    "# ax.fill_between(date,0,num,color='lightpink')\n",
    "# [l.set_visible(False) for (i,l) in enumerate(ax.xaxis.get_ticklabels()) if i%14 != 0]\n",
    "# plt.axhline(avg,xmin=date[0],xmax=date[-1],color='g',linestyle='--')\n",
    "# plt.legend(['Number of texts','Average texts'])\n",
    "# plt.show()\n",
    "# fig.savefig('texts_dates.pdf',format='pdf')"
   ]
  },
  {
   "cell_type": "code",
   "execution_count": 12,
   "metadata": {},
   "outputs": [],
   "source": [
    "from mayavi import mlab\n",
    "\n",
    "mlab.clf()\n",
    "x, y, z = np.mgrid[-5:5:64, -5:5:64j, -5:5:64j]\n",
    "values = Mc\n",
    "mlab.contour3d(values)\n",
    "mlab.show()"
   ]
  },
  {
   "cell_type": "code",
   "execution_count": 13,
   "metadata": {},
   "outputs": [],
   "source": [
    "l = len(Mc)\n",
    "A = np.zeros((l,l))\n",
    "for i in range(l):\n",
    "    for j in range(l):\n",
    "        A[i,j]=np.sum(Mc[i,:,j])\n",
    "A = A/cubes_per_axis"
   ]
  },
  {
   "cell_type": "code",
   "execution_count": 160,
   "metadata": {},
   "outputs": [
    {
     "data": {
      "text/plain": [
       "<matplotlib.collections.QuadMesh at 0x7f1b07d36160>"
      ]
     },
     "execution_count": 160,
     "metadata": {},
     "output_type": "execute_result"
    },
    {
     "data": {
      "image/png": "[encoded data removed]",
      "text/plain": [
       "<Figure size 432x288 with 1 Axes>"
      ]
     },
     "metadata": {
      "needs_background": "light"
     },
     "output_type": "display_data"
    }
   ],
   "source": [
    "# fig = plt.figure(dpi=300)\n",
    "n = 10\n",
    "X,Y = np.mgrid[slice(0,n+1,1),slice(0,n+1,1)]\n",
    "Z = np.zeros((n,n))\n",
    "plt.pcolormesh(X,Y,Z,cmap=\"YlGnBu\",edgecolor='seagreen')\n",
    "C = np.zeros((n,n))\n",
    "dist_max = 0.5*np.sqrt(2)\n",
    "start = np.random.randint(5,size=(2,2))\n",
    "end = np.random.randint(5,10,size=(2,2))\n",
    "plt.plot([start[0,5],[0,n/2],'r-',linewidth=3)\n",
    "plt.plot([5,0],[5,n],'r-',linewidth=3)\n",
    "for s,e in zip(start,end):\n",
    "    p1 = s\n",
    "    p2 = e\n",
    "    i=0\n",
    "    j=0\n",
    "    while(i<len(Z) and j<len(Z)):\n",
    "        p3 = np.array([i+0.5,j+0.5])\n",
    "        dist = np.linalg.norm(np.cross(p2-p1,p1-p3))/np.linalg.norm(p2-p1)\n",
    "        if(dist<dist_max-1e-2 and np.dot((p3-p1),(p2-p3))>0):\n",
    "            C[i,j]=1\n",
    "        if(i<len(Z)-1):\n",
    "            i=i+1\n",
    "        else:\n",
    "            i=0\n",
    "            j=j+1\n",
    "plt.pcolormesh(X,Y,C,cmap=\"Blues\",edgecolor='seagreen')\n",
    "plt.show()"
   ]
  },
  {
   "cell_type": "code",
   "execution_count": 158,
   "metadata": {},
   "outputs": [
    {
     "data": {
      "text/plain": [
       "array([[3, 3],\n",
       "       [4, 3]])"
      ]
     },
     "execution_count": 158,
     "metadata": {},
     "output_type": "execute_result"
    }
   ],
   "source": [
    "start"
   ]
  },
  {
   "cell_type": "code",
   "execution_count": 159,
   "metadata": {},
   "outputs": [
    {
     "data": {
      "text/plain": [
       "array([[7, 7],\n",
       "       [6, 5]])"
      ]
     },
     "execution_count": 159,
     "metadata": {},
     "output_type": "execute_result"
    }
   ],
   "source": [
    "end"
   ]
  },
  {
   "cell_type": "code",
   "execution_count": null,
   "metadata": {},
   "outputs": [],
   "source": []
  }
 ],
 "metadata": {
  "kernelspec": {
   "display_name": "Python 3",
   "language": "python",
   "name": "python3"
  },
  "language_info": {
   "codemirror_mode": {
    "name": "ipython",
    "version": 3
   },
   "file_extension": ".py",
   "mimetype": "text/x-python",
   "name": "python",
   "nbconvert_exporter": "python",
   "pygments_lexer": "ipython3",
   "version": "3.7.3"
  }
 },
 "nbformat": 4,
 "nbformat_minor": 2
}
