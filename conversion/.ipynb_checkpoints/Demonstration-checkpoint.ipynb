{
 "cells": [
  {
   "cell_type": "code",
   "execution_count": 13,
   "metadata": {},
   "outputs": [],
   "source": [
    "from pyntcloud import PyntCloud\n",
    "from pyntcloud.io import bin as io_bin\n",
    "import numpy as np\n",
    "import pandas as pd\n",
    "from pythreejs import *  \n",
    "import numpy as np\n",
    "from IPython.display import display\n",
    "from ipywidgets import HTML, Text, Output, VBox\n",
    "from traitlets import link, dlink\n",
    "import glob\n",
    "from check import ROI"
   ]
  },
  {
   "cell_type": "code",
   "execution_count": 14,
   "metadata": {},
   "outputs": [],
   "source": [
    "def createBBox(bounding_box,C1,C2,C3,C4,C5,C6,C7,C8,color=\"yellow\"):\n",
    "    bounding_box.append({\"color\":color, \"vertices\":[C1,C2,C3,C4,C1]})\n",
    "    bounding_box.append({\"color\":color, \"vertices\":[C1,C4,C8,C5,C1]})\n",
    "    bounding_box.append({\"color\":color, \"vertices\":[C1,C2,C6,C5,C1]})\n",
    "    bounding_box.append({\"color\":color, \"vertices\":[C2,C6,C7,C3,C2]})\n",
    "    bounding_box.append({\"color\":color, \"vertices\":[C3,C7,C8,C4,C3]})\n",
    "    return bounding_box\n",
    "\n",
    "with open('lidar_config.txt') as f:\n",
    "    lidar_config = json.load(f)\n",
    "    index = len(lidar_config['lidar'])\n",
    "    \n",
    "home = [0,0,2.8]\n",
    "CLOUD = pd.DataFrame(columns=['x','y','z'])\n",
    "individual_points = []\n",
    "\n",
    "lidar_num = index;\n",
    "for i in range(lidar_num):\n",
    "    pointfiles = glob.glob(\"convert_image/{}/Pointclouds/*\".format(i))     # pointcloud files\n",
    "    coord = lidar_config['lidar'][i]['location']\n",
    "\n",
    "    num = 1\n",
    "    labelfiles = glob.glob(\"convert_image/{}/Labels/*\".format(i))\n",
    "    curr_boxes = np.load(labelfiles[num])                   # bounding box vertex location files\n",
    "    if(i==0):\n",
    "        boxes_inside = []\n",
    "        for box in curr_boxes:\n",
    "            if(np.abs(box[0,0]) < ROI/2 and np.abs(box[0,1]) < ROI/2):\n",
    "                boxes_inside.append(box)\n",
    "        curr_boxes = boxes_inside\n",
    "\n",
    "        boxes_gt = list()\n",
    "        for each in curr_boxes:\n",
    "            each = each.tolist()\n",
    "            boxes_gt = createBBox(boxes_gt,each[0],each[1],each[2],each[3],each[4],each[5],each[6],each[7])\n",
    "\n",
    "    points_numpy = np.loadtxt(pointfiles[num])         # specify pointcloud file\n",
    "    new = np.random.random((len(points_numpy),3))\n",
    "    points_numpy = np.hstack((points_numpy,new))\n",
    "    points = pd.DataFrame(data=points_numpy,columns=['x', 'y', 'z','red','green','blue'])\n",
    "    points.iloc[:,0:3] = points.iloc[:,0:3] - (np.asarray(coord) - np.asarray(home))\n",
    "    individual_points.append(len(points))\n",
    "    CLOUD = CLOUD.append(points)\n",
    "\n",
    "cloud = PyntCloud(CLOUD)\n",
    "colors = [np.array([0,0,255], dtype=np.uint8),np.array([0,255,0],dtype=np.uint8)]\n",
    "for i in range(1,lidar_num+1):\n",
    "    for j in range(individual_points[i-1]):\n",
    "        if(i==1):\n",
    "            cloud.points.loc[j,0:3] = colors[i-1]\n",
    "        else:\n",
    "            cloud.points.iloc[individual_points[i-2]+j-2,0:3] = colors[i-1]"
   ]
  },
  {
   "cell_type": "code",
   "execution_count": 15,
   "metadata": {},
   "outputs": [
    {
     "data": {
      "application/vnd.jupyter.widget-view+json": {
       "model_id": "d825d8ab56d540b297bad1bb4f5bd592",
       "version_major": 2,
       "version_minor": 0
      },
      "text/plain": [
       "Renderer(camera=PerspectiveCamera(aspect=1.6, fov=90.0, position=(-1.4892812305841965, 25.200919077941595, 11.…"
      ]
     },
     "metadata": {},
     "output_type": "display_data"
    },
    {
     "data": {
      "application/vnd.jupyter.widget-view+json": {
       "model_id": "29633b59c4a1408a9ca46e6815335cf0",
       "version_major": 2,
       "version_minor": 0
      },
      "text/plain": [
       "HBox(children=(Label(value='Point size:'), FloatSlider(value=0.02, max=0.2, step=0.0002), Label(value='Backgro…"
      ]
     },
     "metadata": {},
     "output_type": "display_data"
    }
   ],
   "source": [
    "cloud.plot(initial_point_size=0.02, polylines=boxes_gt)\n",
    "# lidar_point_cloud = PyntCloud.from_file(\"convert_image/lidar/{}.ply\".format(num))\n",
    "# lidar_point_cloud.points = -5*lidar_point_cloud.points\n",
    "# lidar_point_cloud.plot(initial_point_size=0.02)"
   ]
  },
  {
   "cell_type": "code",
   "execution_count": 42,
   "metadata": {},
   "outputs": [],
   "source": [
    "import csv\n",
    "import json\n",
    "import pandas as pd\n",
    "\n",
    "data = {}\n",
    "data['lidar'] = []\n",
    "\n",
    "# data['lidar'].append({\n",
    "#     'location': [0,0,2.8,0,0,0],\n",
    "#     'angles': [-25,-1,-1.667,-15.639,-11.31,0,-0.667,-8.843,-7.254,0.333,-0.333,-6.148,-5.333,\n",
    "#             1.333,0.667,-4,-4.667,1.667,1,-3.667,-3.333,3.333,2.333,-2.667 ,-3,7,4.667,-2.333 ,-2,15,10.333,-1.333],\n",
    "#     'resolution': 0.2\n",
    "# })\n",
    "data['lidar'].append({\n",
    "    'location': [0,-1,2.8],\n",
    "    'angles': [-15,-13,-11,-9,-7,-5,-3,-1,1,3,5,7,9,11,13,15],\n",
    "    'resolution': 0.4\n",
    "})\n",
    "data['lidar'].append({\n",
    "    'location': [0,1,2.8],\n",
    "    'angles': [-15,-13,-11,-9,-7,-5,-3,-1,1,3,5,7,9,11,13,15]\n",
    "#     [-25,-1,-1.667,-15.639,-11.31,0,-0.667,-8.843,-7.254,0.333,-0.333,-6.148,-5.333,\n",
    "#             1.333,0.667,-4,-4.667,1.667,1,-3.667,-3.333,3.333,2.333,-2.667 ,-3,7,4.667,-2.333 ,-2,15,10.333,-1.333],\n",
    "    'resolution': 0.4\n",
    "})\n",
    "\n",
    "with open('lidar_config.txt', 'w') as outfile:\n",
    "    json.dump(data, outfile)"
   ]
  },
  {
   "cell_type": "code",
   "execution_count": 25,
   "metadata": {},
   "outputs": [
    {
     "data": {
      "text/plain": [
       "(151, 8, 3)"
      ]
     },
     "execution_count": 25,
     "metadata": {},
     "output_type": "execute_result"
    }
   ],
   "source": [
    "np.shape(curr_boxes)"
   ]
  },
  {
   "cell_type": "code",
   "execution_count": null,
   "metadata": {},
   "outputs": [],
   "source": []
  }
 ],
 "metadata": {
  "kernelspec": {
   "display_name": "Python 3",
   "language": "python",
   "name": "python3"
  },
  "language_info": {
   "codemirror_mode": {
    "name": "ipython",
    "version": 3
   },
   "file_extension": ".py",
   "mimetype": "text/x-python",
   "name": "python",
   "nbconvert_exporter": "python",
   "pygments_lexer": "ipython3",
   "version": "3.7.3"
  }
 },
 "nbformat": 4,
 "nbformat_minor": 2
}
